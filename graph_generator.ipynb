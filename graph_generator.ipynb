{
 "cells": [
  {
   "cell_type": "code",
   "execution_count": 47,
   "metadata": {},
   "outputs": [],
   "source": [
    "import pymongo\n",
    "import networkx as nx\n",
    "from itertools import combinations\n",
    "import pandas as pd\n",
    "from networkx.readwrite import json_graph\n",
    "import json\n",
    "import datetime\n",
    "from fa2l import force_atlas2_layout\n"
   ]
  },
  {
   "cell_type": "code",
   "execution_count": 48,
   "metadata": {},
   "outputs": [],
   "source": [
    "# !pip install fa2l"
   ]
  },
  {
   "cell_type": "code",
   "execution_count": 49,
   "metadata": {},
   "outputs": [],
   "source": [
    "client = pymongo.MongoClient()\n",
    "mdb = client.arxiv\n",
    "db_papers = mdb.papers"
   ]
  },
  {
   "cell_type": "code",
   "execution_count": 50,
   "metadata": {},
   "outputs": [],
   "source": [
    "papers = list(db_papers.find({'time_published': {'$gt': datetime.datetime(2018, 1, 1)}}))\n",
    "# papers = papers[:5000]"
   ]
  },
  {
   "cell_type": "markdown",
   "metadata": {},
   "source": [
    "Save list of fields to show in the menu"
   ]
  },
  {
   "cell_type": "code",
   "execution_count": 51,
   "metadata": {},
   "outputs": [
    {
     "name": "stdout",
     "output_type": "stream",
     "text": [
      "Num fields 48\n"
     ]
    }
   ],
   "source": [
    "all_fields = json.load(open('all_arxiv_categories.json', 'r'))\n",
    "optional_fields = {key: 0 for key, val in all_fields.items()} \n",
    "for p in papers:\n",
    "#     r_fields.add(p['arxiv_primary_category']['term'])\n",
    "    for t in p['tags']:\n",
    "        if t['term'] in optional_fields:\n",
    "            optional_fields[t['term']] += 1\n",
    "        \n",
    "fields_counter = {key: val for key, val in optional_fields.items() if val > 30}\n",
    "FIELDS = {key: all_fields[key] for key in fields_counter}\n",
    "fields_to_save = [{'key': key, 'value': all_fields[key]} for key in fields_counter]\n",
    "json.dump(fields_to_save, open('relevant_arxiv_categories.json', 'w'))\n",
    "print(f'Num fields {len(fields_to_save)}')"
   ]
  },
  {
   "cell_type": "code",
   "execution_count": 63,
   "metadata": {},
   "outputs": [],
   "source": [
    "def add_or_update_node(G, name, p):\n",
    "    if G.has_node(name):\n",
    "        G.node[name]['weight'] += 1\n",
    "    else:\n",
    "        G.add_node(name, weight=1, fields=set())\n",
    "    for t in p['tags']:\n",
    "        if t['term'] in FIELDS:\n",
    "            G.node[name]['fields'].add(t['term'])\n",
    "        \n",
    "def add_or_update_edge(G, edge):\n",
    "    node1, node2 = edge\n",
    "    if G.has_edge(node1, node2):\n",
    "        G[node1][node2]['weight'] += 1\n",
    "    else:\n",
    "        G.add_edge(node1, node2, weight=1)\n",
    "        \n",
    "    \n",
    "def save_to_json_vis(G, filename):\n",
    "    output = {'nodes': [], 'edges': []}\n",
    "    json_G = json_graph.node_link_data(G)\n",
    "    for n in json_G['nodes']:\n",
    "        n['label'] = n['id']\n",
    "        n['title'] = '{} ({})'.format(n['id'], n['weight'])\n",
    "        n['value'] = n['weight'] \n",
    "        n['fields'] = list(n['fields'])\n",
    "        output['nodes'].append(n)\n",
    "    for l in json_G['links']:\n",
    "        output['edges'].append({'from': l['source'], 'to': l['target'], 'width': l['weight']})\n",
    "        \n",
    "    json.dump(output, open(filename, 'w'))\n",
    "\n",
    "def add_component_data(G):\n",
    "    for c_id, cur_ns in enumerate(nx.connected_components(G)):\n",
    "        for n in cur_ns:\n",
    "            G.node[n]['component'] = c_id\n",
    "\n",
    "def add_positions(G):\n",
    "    pos = json.load(open('positions.json', 'r'))\n",
    "    for n, cur_p in pos.items():\n",
    "        G.node[n]['x'] = cur_p['x']\n",
    "        G.node[n]['y'] = cur_p['y']\n",
    "        \n",
    "def add_positions_networkx(G):\n",
    "    pos = force_atlas2_layout(G,\n",
    "                                iterations=100,\n",
    "                                pos_list=None,\n",
    "                                node_masses=None,\n",
    "                                outbound_attraction_distribution=False,\n",
    "                                lin_log_mode=True,\n",
    "                                prevent_overlapping=False,\n",
    "                                edge_weight_influence=1.0,\n",
    "\n",
    "                                jitter_tolerance=1.0,\n",
    "                                barnes_hut_optimize=True,\n",
    "                                barnes_hut_theta=1,\n",
    "\n",
    "                                scaling_ratio=2.0,\n",
    "                                strong_gravity_mode=False,\n",
    "                                multithread=False,\n",
    "                                gravity=1.0)\n",
    "    for n, cur_p in pos.items():\n",
    "        G.node[n]['x'] = cur_p[0] \n",
    "        G.node[n]['y'] = cur_p[1]"
   ]
  },
  {
   "cell_type": "code",
   "execution_count": 70,
   "metadata": {},
   "outputs": [
    {
     "name": "stdout",
     "output_type": "stream",
     "text": [
      "Num nodes 29127\n"
     ]
    }
   ],
   "source": [
    "G = nx.Graph()\n",
    "\n",
    "for p in papers:\n",
    "    if len(p['authors']) > 1:\n",
    "        names = [a['name'] for a in p['authors']]\n",
    "        for n in names:\n",
    "            add_or_update_node(G, n, p)\n",
    "            \n",
    "        edges = combinations(names, 2)\n",
    "        for e in edges:\n",
    "            add_or_update_edge(G, e)\n",
    "\n",
    "print(f'Num nodes {len(G.nodes())}')\n",
    "\n",
    "to_remove = []\n",
    "for n in G.nodes(data=True):\n",
    "    if n[1]['weight'] <= 1:\n",
    "        to_remove.append(n[0])\n",
    "\n",
    "# G.remove_nodes_from(to_remove)\n",
    "# print(f'Num nodes {len(G.nodes())}')\n",
    "\n",
    "# to_remove = []\n",
    "# for n in G.nodes():\n",
    "#     if len(G.edges(n)) == 0 and G.node[n]['weight'] < 3:\n",
    "#         to_remove.append(n)\n",
    "        \n",
    "# G.remove_nodes_from(to_remove)\n",
    "# print(f'Num nodes {len(G.nodes())}')\n",
    "\n",
    "# add_component_data(G)\n",
    "# add_positions(G)"
   ]
  },
  {
   "cell_type": "code",
   "execution_count": 786,
   "metadata": {
    "collapsed": true
   },
   "outputs": [
    {
     "data": {
      "text/plain": [
       "('Yang Liu',\n",
       " {'weight': 33,\n",
       "  'fields': {'cs.AI',\n",
       "   'cs.CL',\n",
       "   'cs.CR',\n",
       "   'cs.CV',\n",
       "   'cs.CY',\n",
       "   'cs.GR',\n",
       "   'cs.GT',\n",
       "   'cs.LG',\n",
       "   'cs.MA',\n",
       "   'cs.NE',\n",
       "   'cs.SD',\n",
       "   'cs.SE',\n",
       "   'cs.SY',\n",
       "   'eess.AS',\n",
       "   'eess.IV',\n",
       "   'math.OC',\n",
       "   'stat.ML'},\n",
       "  'component': 0,\n",
       "  'x': -2077,\n",
       "  'y': 176})"
      ]
     },
     "execution_count": 786,
     "metadata": {},
     "output_type": "execute_result"
    }
   ],
   "source": [
    "n = list(G.nodes(data=True))\n",
    "max(n, key=lambda x: x[1]['weight'])"
   ]
  },
  {
   "cell_type": "code",
   "execution_count": 787,
   "metadata": {},
   "outputs": [],
   "source": [
    "save_to_json_vis(G, 'static/network_data.json')"
   ]
  },
  {
   "cell_type": "markdown",
   "metadata": {},
   "source": [
    "Old parts:"
   ]
  },
  {
   "cell_type": "code",
   "execution_count": 806,
   "metadata": {
    "scrolled": true
   },
   "outputs": [],
   "source": [
    "# a = next(nx.algorithms.community.girvan_newman(G))"
   ]
  },
  {
   "cell_type": "code",
   "execution_count": 333,
   "metadata": {},
   "outputs": [
    {
     "data": {
      "text/html": [
       "<div>\n",
       "<style scoped>\n",
       "    .dataframe tbody tr th:only-of-type {\n",
       "        vertical-align: middle;\n",
       "    }\n",
       "\n",
       "    .dataframe tbody tr th {\n",
       "        vertical-align: top;\n",
       "    }\n",
       "\n",
       "    .dataframe thead th {\n",
       "        text-align: right;\n",
       "    }\n",
       "</style>\n",
       "<table border=\"1\" class=\"dataframe\">\n",
       "  <thead>\n",
       "    <tr style=\"text-align: right;\">\n",
       "      <th></th>\n",
       "      <th>name</th>\n",
       "      <th>num</th>\n",
       "    </tr>\n",
       "  </thead>\n",
       "  <tbody>\n",
       "    <tr>\n",
       "      <th>26</th>\n",
       "      <td>Pascal Fua</td>\n",
       "      <td>6</td>\n",
       "    </tr>\n",
       "    <tr>\n",
       "      <th>69</th>\n",
       "      <td>Yang Liu</td>\n",
       "      <td>6</td>\n",
       "    </tr>\n",
       "    <tr>\n",
       "      <th>127</th>\n",
       "      <td>Larry S. Davis</td>\n",
       "      <td>8</td>\n",
       "    </tr>\n",
       "    <tr>\n",
       "      <th>325</th>\n",
       "      <td>Sergey Levine</td>\n",
       "      <td>7</td>\n",
       "    </tr>\n",
       "    <tr>\n",
       "      <th>486</th>\n",
       "      <td>Xin Wang</td>\n",
       "      <td>6</td>\n",
       "    </tr>\n",
       "    <tr>\n",
       "      <th>521</th>\n",
       "      <td>Yoshua Bengio</td>\n",
       "      <td>9</td>\n",
       "    </tr>\n",
       "    <tr>\n",
       "      <th>624</th>\n",
       "      <td>Dogancan Temel</td>\n",
       "      <td>8</td>\n",
       "    </tr>\n",
       "    <tr>\n",
       "      <th>625</th>\n",
       "      <td>Ghassan AlRegib</td>\n",
       "      <td>8</td>\n",
       "    </tr>\n",
       "  </tbody>\n",
       "</table>\n",
       "</div>"
      ],
      "text/plain": [
       "                name  num\n",
       "26        Pascal Fua    6\n",
       "69          Yang Liu    6\n",
       "127   Larry S. Davis    8\n",
       "325    Sergey Levine    7\n",
       "486         Xin Wang    6\n",
       "521    Yoshua Bengio    9\n",
       "624   Dogancan Temel    8\n",
       "625  Ghassan AlRegib    8"
      ]
     },
     "execution_count": 333,
     "metadata": {},
     "output_type": "execute_result"
    }
   ],
   "source": [
    "nodes = []\n",
    "for n in G.nodes(data=True):\n",
    "    nodes.append({'name': n[0], 'num': n[1]['count']})\n",
    "df = pd.DataFrame(nodes)\n",
    "df[df.num > 5]\n",
    "\n"
   ]
  },
  {
   "cell_type": "markdown",
   "metadata": {},
   "source": [
    "### Google Scholar citation search. Got banned after 10 requests :("
   ]
  },
  {
   "cell_type": "code",
   "execution_count": 8,
   "metadata": {},
   "outputs": [
    {
     "name": "stdout",
     "output_type": "stream",
     "text": [
      "https://arxiv.org/abs/1809.04696\n"
     ]
    }
   ],
   "source": [
    "import scholar\n",
    "querier = scholar.ScholarQuerier()\n",
    "settings = scholar.ScholarSettings()\n",
    "querier.apply_settings(settings)\n",
    "\n",
    "# scholar.ScholarConf.COOKIE_JAR_FILE = 'scholar_cookie.txt'\n",
    "# querier.save_cookies()\n",
    "\n",
    "for p in papers[-20:-1]:\n",
    "    query = scholar.SearchScholarQuery()\n",
    "    url = f'https://arxiv.org/abs/{p[\"_id\"]}'\n",
    "    print(url)\n",
    "    query.set_words(url)\n",
    "    querier.send_query(query)\n",
    "    break\n",
    "    citations = {'num': 0}\n",
    "    if querier.articles:\n",
    "        attrs = querier.articles[0].attrs\n",
    "        url = attrs['url'][0]\n",
    "        if p['_id'] not in url:\n",
    "            print(f'Wrong Paper - {url}')\n",
    "        else:\n",
    "            citations['num'] = attrs['num_citations'][0]\n",
    "            citations['url'] = attrs['url_citations'][0]\n",
    "    print(citations)\n",
    "    db_papers.update_one({'_id': p['_id']}, {'$set': {'citations': citations}}, True)\n",
    "\n",
    "    "
   ]
  },
  {
   "cell_type": "code",
   "execution_count": 29,
   "metadata": {},
   "outputs": [],
   "source": [
    "# db_papers.update_one({'_id': '1802.05382'}, {'$set': {'test': 'test'}}, True)"
   ]
  },
  {
   "cell_type": "code",
   "execution_count": 74,
   "metadata": {},
   "outputs": [
    {
     "data": {
      "text/plain": [
       "{'weight': 1, 'fields': {'cs.CR', 'cs.CV', 'cs.LG', 'stat.ML'}}"
      ]
     },
     "execution_count": 74,
     "metadata": {},
     "output_type": "execute_result"
    }
   ],
   "source": [
    "# list(filter(lambda x: 'Hinton' in x, G.nodes()))"
   ]
  }
 ],
 "metadata": {
  "kernelspec": {
   "display_name": "Python 3",
   "language": "python",
   "name": "python3"
  },
  "language_info": {
   "codemirror_mode": {
    "name": "ipython",
    "version": 3
   },
   "file_extension": ".py",
   "mimetype": "text/x-python",
   "name": "python",
   "nbconvert_exporter": "python",
   "pygments_lexer": "ipython3",
   "version": "3.6.6"
  }
 },
 "nbformat": 4,
 "nbformat_minor": 2
}
